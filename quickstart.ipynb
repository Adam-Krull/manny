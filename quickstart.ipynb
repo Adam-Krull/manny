{
 "cells": [
  {
   "cell_type": "markdown",
   "id": "b36d1854",
   "metadata": {},
   "source": [
    "The purpose of this notebook is to build and test all elements of the basic chatbot. I will create a vector store from the PDF manual, query it, and use the results as context for questions sent to GPT 5."
   ]
  },
  {
   "cell_type": "code",
   "execution_count": 1,
   "id": "050b7597",
   "metadata": {},
   "outputs": [],
   "source": [
    "#imports\n",
    "import getpass\n",
    "import os\n",
    "import re\n",
    "\n",
    "from textwrap import dedent\n",
    "\n",
    "from langchain.chat_models import init_chat_model\n",
    "from langchain_community.document_loaders import PyPDFLoader\n",
    "from langchain_core.prompts import ChatPromptTemplate\n",
    "from langchain_core.vectorstores import InMemoryVectorStore\n",
    "from langchain_openai import OpenAIEmbeddings\n",
    "from langchain_text_splitters import RecursiveCharacterTextSplitter"
   ]
  },
  {
   "cell_type": "markdown",
   "id": "360c1010",
   "metadata": {},
   "source": [
    "We simply need to define the filepath and create the PyPDFLoader object using the filepath. From there, we can load in the document. They are saved to a variable called \"pages\" because each page of the document creates its own Document object from LangChain. We see there are 134 pages in the document."
   ]
  },
  {
   "cell_type": "code",
   "execution_count": 2,
   "id": "43ea6fb2",
   "metadata": {},
   "outputs": [
    {
     "name": "stdout",
     "output_type": "stream",
     "text": [
      "134\n"
     ]
    }
   ],
   "source": [
    "filepath = 'production_planning_scheduling.pdf'\n",
    "loader = PyPDFLoader(filepath)\n",
    "\n",
    "pages = loader.load()\n",
    "print(len(pages))"
   ]
  },
  {
   "cell_type": "markdown",
   "id": "1d1ca346",
   "metadata": {},
   "source": [
    "Not all pages were created equal. The first five pages comprise the index. These will not help pull useful context for our model! After a brief skim of the document, the rest of the pages look like they may provide useful context to answer questions. It will be interesting to see how some of the information (the tables at the end, for example) is read by the PyPDFLoader and if it can serve as useful context."
   ]
  },
  {
   "cell_type": "code",
   "execution_count": 3,
   "id": "8b104ac6",
   "metadata": {},
   "outputs": [
    {
     "name": "stdout",
     "output_type": "stream",
     "text": [
      "129\n"
     ]
    }
   ],
   "source": [
    "pages = pages[5:]\n",
    "print(len(pages))"
   ]
  },
  {
   "cell_type": "markdown",
   "id": "9a7a674d",
   "metadata": {},
   "source": [
    "Let's take a look at the metadata included with the Document object. It contains the following bits of information:  \n",
    "1. The source document\n",
    "2. Total number of pages\n",
    "3. The page label (this is the correct page number)\n",
    "4. The page content  \n",
    "\n",
    "Some of this information will prove useful for the project. In addition to the page content, the goal is to provide the page number to the LLM, so the context can be cited directly from the text. It allows the user the opportunity to verify the output from the model and read directly from the manual to gather additional information about the task. For example, there are useful images in the PDF that are not captured in the text. A reference to the page number will direct users to relevant images."
   ]
  },
  {
   "cell_type": "code",
   "execution_count": 4,
   "id": "3c2b42f0",
   "metadata": {},
   "outputs": [
    {
     "data": {
      "text/plain": [
       "Document(metadata={'producer': 'Skia/PDF m139', 'creator': 'Mozilla/5.0 (Windows NT 10.0; Win64; x64) AppleWebKit/537.36 (KHTML, like Gecko) Chrome/139.0.0.0 Safari/537.36', 'creationdate': '2025-08-22T03:05:14+00:00', 'title': 'Help', 'moddate': '2025-08-22T03:05:14+00:00', 'source': 'production_planning_scheduling.pdf', 'total_pages': 134, 'page': 15, 'page_label': '16'}, page_content='2.4      Production Planning Access Window\\nThe Order Item Releases that are on Planning Review are displayed on the Production Planning screen based on the following Accesswindow: \\n Production Planning Access Window\\n \\n2.4.1    Display Sequence\\nBy default, the Order Releases are sequenced by the sold product.  However the Display Sequence option provides the ability to sequenceby any of the following options • Route• Sales Order• Sold Product\\n8/21/25, 10:05 PM PRODUCTION PLANNING AND SCHEDULING\\nhttps://infohub.invera.com/HelpViewer.html?#HelpViewer1755829302616 16/134')"
      ]
     },
     "execution_count": 4,
     "metadata": {},
     "output_type": "execute_result"
    }
   ],
   "source": [
    "pages[10]"
   ]
  },
  {
   "cell_type": "markdown",
   "id": "02a78f5d",
   "metadata": {},
   "source": [
    "In the page content, there are newline characters and excess whitespace. Let's remove that."
   ]
  },
  {
   "cell_type": "code",
   "execution_count": 5,
   "id": "dc8377b7",
   "metadata": {},
   "outputs": [
    {
     "name": "stdout",
     "output_type": "stream",
     "text": [
      "page_content='2.4 Production Planning Access Window The Order Item Releases that are on Planning Review are displayed on the Production Planning screen based on the following Accesswindow: Production Planning Access Window 2.4.1 Display Sequence By default, the Order Releases are sequenced by the sold product. However the Display Sequence option provides the ability to sequenceby any of the following options • Route• Sales Order• Sold Product 8/21/25, 10:05 PM PRODUCTION PLANNING AND SCHEDULING https://infohub.invera.com/HelpViewer.html?#HelpViewer1755829302616 16/134' metadata={'producer': 'Skia/PDF m139', 'creator': 'Mozilla/5.0 (Windows NT 10.0; Win64; x64) AppleWebKit/537.36 (KHTML, like Gecko) Chrome/139.0.0.0 Safari/537.36', 'creationdate': '2025-08-22T03:05:14+00:00', 'title': 'Help', 'moddate': '2025-08-22T03:05:14+00:00', 'source': 'production_planning_scheduling.pdf', 'total_pages': 134, 'page': 15, 'page_label': '16'}\n"
     ]
    }
   ],
   "source": [
    "regexp = r'\\s+'\n",
    "\n",
    "for page in pages:\n",
    "    old_content = page.page_content\n",
    "    new_content = old_content.strip().replace('\\n', ' ')\n",
    "    new_content = re.sub(regexp, ' ', new_content)\n",
    "    page.page_content = new_content\n",
    "\n",
    "print(pages[10])    "
   ]
  },
  {
   "cell_type": "markdown",
   "id": "2f6241d7",
   "metadata": {},
   "source": [
    "While some of these pages may be short on text content, others contain a great deal of text. We need to split the text into equal chunks. We will use the recursive text splitter. It splits text using sentences and new lines until the target length is met. There will be some overlap, in case the cutoff is in the middle of an important explanation. These values represent two \"hyperparameters\" that can be tuned to improve the performance of the vector store. For now, we will try the values provided by the tutorial."
   ]
  },
  {
   "cell_type": "code",
   "execution_count": 6,
   "id": "ceaa8ef0",
   "metadata": {},
   "outputs": [
    {
     "name": "stdout",
     "output_type": "stream",
     "text": [
      "462\n"
     ]
    }
   ],
   "source": [
    "splitter = RecursiveCharacterTextSplitter(\n",
    "    chunk_size=1_000, chunk_overlap=200, add_start_index=True\n",
    ")\n",
    "\n",
    "splits = splitter.split_documents(pages)\n",
    "print(len(splits))"
   ]
  },
  {
   "cell_type": "markdown",
   "id": "629db2f0",
   "metadata": {},
   "source": [
    "These document fragments still contain the important metadata we need for the queries. Now we need to create an embeddings object to reference a Google embedding model and generate vectors from the text. The embedding model is used to create the vector store object and will embed all text fragments for searching."
   ]
  },
  {
   "cell_type": "code",
   "execution_count": 7,
   "id": "a3d0a439",
   "metadata": {},
   "outputs": [],
   "source": [
    "os.environ['OPENAI_API_KEY'] = getpass.getpass('Enter OpenAI API key: ')\n",
    "\n",
    "embeddings = OpenAIEmbeddings(model='text-embedding-3-large')\n",
    "vector_store = InMemoryVectorStore(embeddings)\n",
    "ids = vector_store.add_documents(documents=splits)"
   ]
  },
  {
   "cell_type": "markdown",
   "id": "f4932431",
   "metadata": {},
   "source": [
    "Now the vector store exists, we can query it for the closest match(es). Let's ask it some questions with answers we can easily find in the text. By default, the search will return 4 documents. Let's cut that in half to 2. I will also return the similarity score to see how close of a match the context is to the query.\n",
    "\n",
    "The first question should be found on page label 6 and be a list including job set number and planning warehouse."
   ]
  },
  {
   "cell_type": "code",
   "execution_count": 8,
   "id": "23afe57d",
   "metadata": {},
   "outputs": [
    {
     "name": "stdout",
     "output_type": "stream",
     "text": [
      "First file similarity score: 0.5805875729737856\n",
      "First file content: page_content='Jobs that represent the Job Set Routing. The Job Set routing can be different from that of the planned Order Item Releasesif the Planner chooses to alter slightly the processing routes.• Transport activities to initiate the transfer of material based on the Job Activity warehouses and the Shipping warehouse.• Transport activities to initiate the shipment to the customer if the Planned Order Item Release is a Normal, Blanket Release, ContractOrder or Toll Order.• Reservations which can be Specific, Non-Specific or Incoming. 1.3.2 Job Set Attributes The Job Set has the following attributes:• A unique Job Set number• A Planning Warehouse• An Expected Starting Date• Customer Owned designation• Entry Measure (English/Metric)• Job Set Status 1.3.3 Job Set Models A Job Set can vary from a simple one/multiple Jobs to fulfill one Order Item Release, to a more complex Job Set which includedone/multiple Jobs that are fulfilling multiple Order Item Releases. When the Job Set includes consecutive' metadata={'producer': 'Skia/PDF m139', 'creator': 'Mozilla/5.0 (Windows NT 10.0; Win64; x64) AppleWebKit/537.36 (KHTML, like Gecko) Chrome/139.0.0.0 Safari/537.36', 'creationdate': '2025-08-22T03:05:14+00:00', 'title': 'Help', 'moddate': '2025-08-22T03:05:14+00:00', 'source': 'production_planning_scheduling.pdf', 'total_pages': 134, 'page': 5, 'page_label': '6', 'start_index': 1599}\n",
      "\n",
      "Second file similarity score: 0.5417215112893294\n",
      "Second file content: page_content='The rules applied when performing each step are discussed in the following sections. 3.4 Job Set Creation The steps performed to create a Job Set are as follows: • Creation of the Job Set and Planned Order Item Releases.• Creation of the corresponding Jobs, based on the Process Routing. 3.4.1 Job Set Information The following information is saved on the Job Set level: Field Default Conditions PlanningWarehouse Based on the Order Item Release Cannot be changed Ownership Based on the Planned Release SalesCategory – Material Source• Cannot be changed • All the Releases planned on the Jobmust have the same ownership. Customer IDBased on the Planned Release • Updated if one of the followingcondition is satisfied:o Job Set is for a single Customer(i.e., all Releases are for oneCustomer)o Customer-Owned Job Set • Cannot be changed Entry MeasureBased on the Planned Release • Cannot be changed • All the Releases planned on the Jobmust have the same Entry Measure Schedule StartDate and TimeBased' metadata={'producer': 'Skia/PDF m139', 'creator': 'Mozilla/5.0 (Windows NT 10.0; Win64; x64) AppleWebKit/537.36 (KHTML, like Gecko) Chrome/139.0.0.0 Safari/537.36', 'creationdate': '2025-08-22T03:05:14+00:00', 'title': 'Help', 'moddate': '2025-08-22T03:05:14+00:00', 'source': 'production_planning_scheduling.pdf', 'total_pages': 134, 'page': 34, 'page_label': '35', 'start_index': 0}\n"
     ]
    }
   ],
   "source": [
    "result1 = vector_store.similarity_search_with_score(\n",
    "    'What job set attributes are expected to be included with each job?',\n",
    "    2\n",
    ")\n",
    "\n",
    "print(f'First file similarity score: {result1[0][1]}')\n",
    "print(f'First file content: {result1[0][0]}')\n",
    "print()\n",
    "print(f'Second file similarity score: {result1[1][1]}')\n",
    "print(f'Second file content: {result1[1][0]}')"
   ]
  },
  {
   "cell_type": "markdown",
   "id": "52913285",
   "metadata": {},
   "source": [
    "Bingo. Let's amp up the difficulty immediately because that worked so well. The next question is: \"What does the reclassify action button do for processing planning?\" The answer is found in a table on page 75."
   ]
  },
  {
   "cell_type": "code",
   "execution_count": 9,
   "id": "bddfae79",
   "metadata": {},
   "outputs": [
    {
     "name": "stdout",
     "output_type": "stream",
     "text": [
      "First file similarity score: 0.5906416177143428\n",
      "First file content: page_content='(PNL-PRFL-WHS set on ipypsh) Processing Plan Action ButtonsThe following action buttons are applicable to the Processing Plan Grid: Action ButtonsAction Enter Product • Calls the Product Item Entry Window to allow the user to enter to enter theReturn to Stock Product Item.• Only enabled if a Planned Consumption was entered Reclassify • Only available for Planned production lines which have an assignment to‘Stock’. Displays ‘Reclassification’ window whereby the user can change theInventory Type of the stock. Allowable Inventory types are:o Dropo Mastero Reject Scrap • Creates a Planned Scrap record for the Proof. • Only enabled if the following conditions are satisfied:o Planned Consumption Weight > then the total Planned Production Weight,ando No Scrap record exists on the Processing Plan • When selected, a Planned Production record is automatically created asfollows:o Product = Scrap Product for the Planned Consumption Producto Weight = Planned Consumption – Total Planned Productiono' metadata={'producer': 'Skia/PDF m139', 'creator': 'Mozilla/5.0 (Windows NT 10.0; Win64; x64) AppleWebKit/537.36 (KHTML, like Gecko) Chrome/139.0.0.0 Safari/537.36', 'creationdate': '2025-08-22T03:05:14+00:00', 'title': 'Help', 'moddate': '2025-08-22T03:05:14+00:00', 'source': 'production_planning_scheduling.pdf', 'total_pages': 134, 'page': 74, 'page_label': '75', 'start_index': 800}\n",
      "\n",
      "Second file similarity score: 0.5595737972993371\n",
      "Second file content: page_content='Release o Can only be entered if the Assign-to information is entered. o The specified Order Release must be planned on the Job Set • The ‘Asgn Stk’ (Assign to Stock) action button turns the selected PlannedProduction into a Drop and removes the Assignment and Target Information.• Assignment changes cannot be made to any of the Planned Productionrecords referenced on an open step. This ensures that the PlannedProduction records will not go out of synch with the Production Items. Reclass • Only available for Planned production lines which have an assignment to‘Stock’. Displays ‘Reclassification’ window whereby the user can change theInventory Type of the stock. Allowable Inventory types are:o Dropo Mastero Reject 4.5.7 Job Maintenance Action Buttons The following action buttons apply to the entire form: Action ButtonsAction Compete • Closes the Job maintenance form and continues the automatic generation ofthe Processing Plans for the Job Set. • The Processing Plan generation starts' metadata={'producer': 'Skia/PDF m139', 'creator': 'Mozilla/5.0 (Windows NT 10.0; Win64; x64) AppleWebKit/537.36 (KHTML, like Gecko) Chrome/139.0.0.0 Safari/537.36', 'creationdate': '2025-08-22T03:05:14+00:00', 'title': 'Help', 'moddate': '2025-08-22T03:05:14+00:00', 'source': 'production_planning_scheduling.pdf', 'total_pages': 134, 'page': 72, 'page_label': '73', 'start_index': 1590}\n"
     ]
    }
   ],
   "source": [
    "result2 = vector_store.similarity_search_with_score(\n",
    "    'What does the reclassify action button do for processing planning?',\n",
    "    2\n",
    ")\n",
    "\n",
    "print(f'First file similarity score: {result2[0][1]}')\n",
    "print(f'First file content: {result2[0][0]}')\n",
    "print()\n",
    "print(f'Second file similarity score: {result2[1][1]}')\n",
    "print(f'Second file content: {result2[1][0]}')"
   ]
  },
  {
   "cell_type": "markdown",
   "id": "2dc02443",
   "metadata": {},
   "source": [
    "As you can see, the first piece of context is correctly found on page 75. The the vector store looks adequate for our needs to create the MVP of this project. Let's make sure we can use this context correctly to get a response from GPT 5. We will ask a new question about information found on page 75 and put the pieces together."
   ]
  },
  {
   "cell_type": "code",
   "execution_count": 10,
   "id": "060634e7",
   "metadata": {},
   "outputs": [],
   "source": [
    "system_template = dedent('''\\\n",
    "                         Your job is to answer user questions based on information from a manual.\n",
    "                         Draw directly from the provided context to craft your answer. At the end of\n",
    "                         your response, cite the page number of the content you used.\n",
    "                            \n",
    "                         Page number: {p1}\n",
    "                         Context: {c1}\n",
    "                            \n",
    "                         Page number: {p2}\n",
    "                         Context: {c2}''').replace('\\n', ' ')\n",
    "\n",
    "prompt_template = ChatPromptTemplate(\n",
    "    [('system', system_template), ('user', '{query}')]\n",
    ")"
   ]
  },
  {
   "cell_type": "code",
   "execution_count": 20,
   "id": "d220da7a",
   "metadata": {},
   "outputs": [
    {
     "name": "stdout",
     "output_type": "stream",
     "text": [
      "messages=[SystemMessage(content='Your job is to answer user questions based on information from a manual. Draw directly from the provided context to craft your answer. At the end of your response, cite the page number of the content you used.  Page number: 75 Context: (PNL-PRFL-WHS set on ipypsh) Processing Plan Action ButtonsThe following action buttons are applicable to the Processing Plan Grid: Action ButtonsAction Enter Product • Calls the Product Item Entry Window to allow the user to enter to enter theReturn to Stock Product Item.• Only enabled if a Planned Consumption was entered Reclassify • Only available for Planned production lines which have an assignment to‘Stock’. Displays ‘Reclassification’ window whereby the user can change theInventory Type of the stock. Allowable Inventory types are:o Dropo Mastero Reject Scrap • Creates a Planned Scrap record for the Proof. • Only enabled if the following conditions are satisfied:o Planned Consumption Weight > then the total Planned Production Weight,ando No Scrap record exists on the Processing Plan • When selected, a Planned Production record is automatically created asfollows:o Product = Scrap Product for the Planned Consumption Producto Weight = Planned Consumption – Total Planned Productiono  Page number: 73 Context: the entire form: Action ButtonsAction Compete • Closes the Job maintenance form and continues the automatic generation ofthe Processing Plans for the Job Set. • The Processing Plan generation starts from where it stopped at Job Setcreation time. • Highlighted in yellow if there are no more requirements to plan and the JobSet has not yet been completed to indicate the next recommended step tothe user. • Refer to the Job Creation chapter for details • Closes the Job Maintenance window and returns to the Job Set Detail browse. • The question “5828 - Item Planning is Completed. Do you wish to Finalizethe Job Set Creation?” is displayed if there are no more requirements to planto allow the user to complete the Job Set if it was not completed yet. 8/21/25, 10:05 PM PRODUCTION PLANNING AND SCHEDULING https://infohub.invera.com/HelpViewer.html?#HelpViewer1755829302616 73/134', additional_kwargs={}, response_metadata={}), HumanMessage(content='What are some of the available processing plan action buttons and what do they do?', additional_kwargs={}, response_metadata={})]\n"
     ]
    }
   ],
   "source": [
    "user_query = 'What are some of the available processing plan action buttons and what do they do?'\n",
    "\n",
    "context1, context2 = vector_store.similarity_search(\n",
    "    user_query,\n",
    "    2\n",
    ")\n",
    "\n",
    "prompt = prompt_template.invoke({\n",
    "    'p1': context1.metadata['page_label'],\n",
    "    'c1': context1.page_content,\n",
    "    'p2': context2.metadata['page_label'],\n",
    "    'c2': context2.page_content,\n",
    "    'query': user_query\n",
    "})\n",
    "\n",
    "print(prompt)"
   ]
  },
  {
   "cell_type": "code",
   "execution_count": 21,
   "id": "acc0891d",
   "metadata": {},
   "outputs": [
    {
     "name": "stdout",
     "output_type": "stream",
     "text": [
      "Here are some of the processing plan action buttons and what they do:\n",
      "\n",
      "- Enter Product: Calls the Product Item Entry Window to enter a Return to Stock Product Item. This button is enabled only if a Planned Consumption has been entered.\n",
      "\n",
      "- Reclassify: Available for planned production lines assigned to Stock. Opens a Reclassification window to change the Inventory Type of the stock. Allowable types are: Drop, Master, Reject, Scrap.\n",
      "\n",
      "- Scrap: Creates a Planned Scrap record for the Proof. Enabled only if Planned Consumption Weight > Total Planned Production Weight and there is no existing Scrap record on the Processing Plan. When used, a Planned Production record is automatically created with Product = Scrap Product for the Planned Consumption and Weight = Planned Consumption – Total Planned Production.\n",
      "\n",
      "- Compete (likely “Complete”): Closes the Job maintenance form and continues automatic generation of the Processing Plans for the Job Set, starting from where it left off. It may be highlighted to indicate no more planning is needed, and a finalization prompt may appear to complete the Job Set if appropriate. \n",
      "\n",
      "Source: Page 75.\n"
     ]
    }
   ],
   "source": [
    "model = init_chat_model('gpt-5-nano', model_provider='openai')\n",
    "\n",
    "response = model.invoke(prompt)\n",
    "\n",
    "print(response.content)"
   ]
  },
  {
   "cell_type": "markdown",
   "id": "d74bff3f",
   "metadata": {},
   "source": [
    "It's not perfect, but for a project due in a couple days, it's good enough. The next priority is to create a fastapi backend using the work from this document. There is sufficient work here to create a stateless chatbot that pulls answers from the operation manual.\n",
    "\n",
    "Finally, I need to save my vector store to a file so I can pull it in to the backend."
   ]
  },
  {
   "cell_type": "code",
   "execution_count": 24,
   "id": "ed2f8255",
   "metadata": {},
   "outputs": [],
   "source": [
    "filepath = './backend/vs.json'\n",
    "vector_store.dump(filepath)"
   ]
  }
 ],
 "metadata": {
  "kernelspec": {
   "display_name": "base",
   "language": "python",
   "name": "python3"
  },
  "language_info": {
   "codemirror_mode": {
    "name": "ipython",
    "version": 3
   },
   "file_extension": ".py",
   "mimetype": "text/x-python",
   "name": "python",
   "nbconvert_exporter": "python",
   "pygments_lexer": "ipython3",
   "version": "3.12.4"
  }
 },
 "nbformat": 4,
 "nbformat_minor": 5
}
